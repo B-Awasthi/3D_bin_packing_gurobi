{
 "cells": [
  {
   "cell_type": "markdown",
   "id": "419f3fc4",
   "metadata": {},
   "source": [
    "# A MIP formulation for the three-dimensional bin packing problem\n",
    "\n",
    "\n",
    "## Background\n",
    "\n",
    "Packing items into an outer carton box is an important activity in online fulfilment. The goal of the below program is to optimally allocate each item (each unit of an item) into a best possible outer carton box to minimize unused volume.  \n",
    "This type of problem belongs to the family of multiple bin size bin packing problems. The approach includes an extensive set of constraints encountered in real-world ap- plications in the three-dimensional case: the stability, the fragility of the items, the weight distribution, and the possibility to rotate the boxes.\n",
    "\n",
    "\n",
    "## Problem definition\n",
    "\n",
    "<pre>\n",
    "minimize unused space \n",
    "s.t.    each box assigned to exactly one used outer carton box \n",
    "        each box within the limits of the outer carton box  \n",
    "        the total weight of the boxes inside an outer carton box <= maximum capacity orthogonal placement  \n",
    "        no overlap  \n",
    "        orientation constraints  \n",
    "</pre>\n",
    "\n",
    "\n",
    "The boxes are assumed to be placed orthogonally, that is, the edges of the boxes have to be either parallel or perpendicular to those of the containers. These constraints are called “orientation constraints.”\n",
    "\n",
    "\n",
    "## Mathematical formulation\n",
    "A set of n rectangular boxes of dimensions l<sub>i</sub> × w<sub>i</sub> × h<sub>i</sub> and weight m<sub>i</sub> ($i \\in {1,...,n}$) has to be packed into m available outer carton boxes of dimensions L<sub>j</sub> × W<sub>j</sub> × H<sub>j</sub>, a maximal capacity, also called maximum gross weight, C<sub>j</sub>, and a volume V<sub>j</sub> while minimizing the unused volume. The packing has to satisfy different geometric and specific constraints that will be specified later.\n"
   ]
  },
  {
   "cell_type": "markdown",
   "id": "72c02e45",
   "metadata": {},
   "source": [
    "### Sets and Indices\n",
    "\n",
    "$i \\in \\text{boxes}=\\{1,2,3, .. n\\}$  \n",
    "$j \\in \\text{outer_carton_box}=\\{1,2,3, .. m\\}$\n",
    "\n",
    "### Parameters\n",
    "\n",
    "n &emsp;&emsp;&emsp;&emsp;&emsp;&emsp; Total number of boxes to be packed  \n",
    "m &emsp;&emsp;&emsp;&emsp;&emsp;&emsp; Total number of available of outer carton boxes  \n",
    "l<sub>i</sub> × w<sub>i</sub> × h<sub>i</sub> &emsp;&emsp; Length × width × height of $\\text{box}_{i}$  \n",
    "$\\text{m}_{i}$ &emsp;&emsp;&emsp;&emsp;&emsp; weight of $\\text{box}_{i}$  \n",
    "L<sub>j</sub> × W<sub>j</sub> × H<sub>j</sub> &emsp;&emsp; Length × width × height of $\\text{outer_carton_box}_{j}$  \n",
    "$\\text{C}_{j}$ &emsp;&emsp;&emsp;&emsp;&emsp;&emsp; Maximum gross weight of $\\text{outer_carton_box}_{j}$  \n",
    "$\\text{V}_{j}$ &emsp;&emsp;&emsp;&emsp;&emsp;&emsp; Volume of $\\text{outer_carton_box}_{j}$  \n",
    "\n",
    "\n",
    "weight of each box is supposed to be less than or equal to the maximum capacity of the bins:  \n",
    "$\\text{m}_{i} \\le \\text{max}_{j}\\text{C}_{j} \\in \\{1, ... ,n\\}$"
   ]
  },
  {
   "cell_type": "markdown",
   "id": "e88c3844",
   "metadata": {},
   "source": [
    "### Decision Variables"
   ]
  },
  {
   "cell_type": "markdown",
   "id": "1e878a0e",
   "metadata": {},
   "source": [
    "**Box Outer_carton_box membership**  \n",
    "$\\text{p}_{i,j} \\in \\{0,1 \\}    \\quad \\forall j \\in \\text{outer_carton_box}$  \n",
    "$\\text{p}_{i,j}$ = 1 if $\\text{box}_{i}$ in $\\text{outer_carton_box}_j$, 0 otherwise\n",
    "\n",
    "**Container is used or not**  \n",
    "$\\text{u}_{j} \\in \\{0,1 \\}  \\quad \\forall j \\in \\text{outer_carton_box}$\n",
    "\n",
    "**Location of the box**  \n",
    "$(\\text{x}_{i}, \\text{y}_{i}, \\text{z}_{i})$ : location of the front left bottom corner of $\\text{box}_{i} \\quad \\forall i \\in \\text{boxes}$  \n",
    "$(\\text{x}^{'}_{i}, \\text{y}^{'}_{i}, \\text{z}^{'}_{i})$ : location of the rear right top corner of $\\text{box}_{i} \\quad \\forall i \\in \\text{boxes}$\n",
    "\n",
    "**Alignment of box with outer carton box**  \n",
    "$\\text{r}_{i,a,b} \\in \\{0,1 \\}  \\quad \\forall i \\in \\text{boxes}$  \n",
    "$\\text{r}_{i,a,b}$ = 1 if side _b_ of $\\text{box}_{i}$ is along the _a_-axis, 0 otherwise\n",
    "\n",
    "**Relative placement of boxes**  \n",
    "$\\text{x}^{p}_{i,k} \\in \\{0,1 \\} \\quad \\forall (i,k) \\in \\text{boxes}$  \n",
    "if $\\text{box}_{i}$ is on the right of $\\text{box}_{k} (\\text{x}^{'}_{k} <= \\text{x}_{i})$ then 1  \n",
    "otherwise if $(\\text{x}_{i} < \\text{x}^{'}_{k})$ then 0\n",
    "\n",
    "$\\text{y}^{p}_{i,k} \\in \\{0,1 \\} \\quad \\forall (i,k) \\in \\text{boxes}$  \n",
    "if $\\text{box}_{i}$ is on the behind of $\\text{box}_{k} (\\text{y}^{'}_{k} <= \\text{y}_{i})$ then 1\n",
    "otherwise if $(\\text{y}_{i} < \\text{y}^{'}_{k})$ then 0\n",
    "\n",
    "$\\text{z}^{p}_{i,k} \\in \\{0,1 \\} \\quad \\forall (i,k) \\in \\text{boxes}$  \n",
    "if $\\text{box}_{i}$ is above $\\text{box}_{k} (\\text{z}^{'}_{k} <= \\text{z}_{i})$ then 1\n",
    "otherwise if $(\\text{z}_{i} < \\text{z}^{'}_{k})$ then 0\n",
    "\n",
    "\n",
    "(_i_,_k_) $\\in {1, .. n}$ , _j_ $\\in {1, .. m}$, (_a_,_b_) $\\in \\{1,2,3\\}$"
   ]
  },
  {
   "cell_type": "markdown",
   "id": "6ccb9369",
   "metadata": {},
   "source": [
    "Variables, $(\\text{x}_{i}, \\text{y}_{i}, \\text{z}_{i})$, $(\\text{x}^{'}_{i}, \\text{y}^{'}_{i}, \\text{z}^{'}_{i})$ describe the position of the box i inside the container  \n",
    "\n",
    "Since the boxes can rotate orthogonally, the variables $\\text{r}_{i,a,b}$ are introduced to describe the orientation of the $\\text{box}_{i}$ inside the container. The index _b_ indicates the side of the box, that is _b_ $\\in$ \\{l := 1, w := 2, h := 3\\}, whereas a indicates the axis, that is _a_ $\\in$ {x := 1, y := 2, z := 3}  \n",
    "They specify which side of the $\\text{box}_{i}$ is along which axis.  \n",
    "\n",
    "\n",
    "To ensure that there is no overlap, we need to know the relative position of two boxes.  \n",
    "Thus, the variable $\\text{x}^{p}_{i,k}$ (respectively $\\text{y}^{p}_{i,k}$ $\\text{z}^{p}_{i,k}$) is equal to 1 if the $\\text{box}_{i}$ is on the right side (respectively behind, above) of $\\text{box}_{k}$.  \n",
    "These variables describe all the situations. Indeed, for instance, if the box i is on the left side of box _k_, it means that box _k_ is on the right side of box _i_, and then $\\text{x}^{p}_{i,k}$ = 1  \n",
    "\n",
    "\n",
    "Even if the definition of the $\\text{z}^{p}_{i,k}$ is same as $\\text{x}^{p}_{i,k}$ and $\\text{y}^{p}_{i,k}$, they are not fully determined because it is not necessary. Indeed, only half of the definition will be guaranteed by the constraints: if $\\text{z}^{p}_{i,k}$ = 1, then we are sure that $\\text{z}^{'}_{k}$ <= $\\text{z}_{i}$  \n",
    "On the contrary, if $\\text{z}^{p}_{i,k}$ = 0, then we have no information."
   ]
  },
  {
   "cell_type": "markdown",
   "id": "cd92ad84",
   "metadata": {},
   "source": [
    "**Objective Function**  \n",
    "\n",
    "The objective function consists in minimizing the unused volume of the outer carton boxes  \n",
    "\\begin{equation}\n",
    "\\sum_{j \\in \\text{outer_carton_box}} \\text{u}_{j}\\text{V}_{j} - \\sum_{i \\in \\text{box}} \\text{l}_{i}\\text{w}_{i}\\text{h}_{i}\n",
    "\\end{equation}"
   ]
  },
  {
   "cell_type": "markdown",
   "id": "9181fcd3",
   "metadata": {},
   "source": [
    "**Constraints**  \n",
    "\n",
    "Some parameters:  \n",
    "_L_ = $max_{j \\in \\text{outer_carton_box}}$  $\\text{L}_{j}$  \n",
    "_W_ = $max_{j \\in \\text{outer_carton_box}}$  $\\text{W}_{j}$  \n",
    "_H_ = $max_{j \\in \\text{outer_carton_box}}$  $\\text{H}_{j}$  \n",
    "\n",
    "\n",
    "***Gometric Constraints***  \n",
    "\n",
    "\n",
    "\\begin{equation}\n",
    "\\sum_{i \\in \\text{boxes}} \\text{m}_{i}\\text{p}_{i,j} <= C_{j}u_{j},  \\quad \\forall j \\in \\text{outer_carton_boxes} \\tag{1}\n",
    "\\end{equation}\n",
    "\n",
    "\n",
    "\\begin{equation}\n",
    "\\sum_{j \\in \\text{outer_carton_boxes}} \\text{p}_{i,j} = 1, \\quad \\forall i \\in \\text{boxes} \\tag{2}\n",
    "\\end{equation}\n",
    "\n",
    "\n",
    "\\begin{equation}\n",
    "\\text{x}^{'}_{i} <= \\sum_{j \\in \\text{outer_carton_boxes}}L_{j}p_{i,j}, \\quad \\forall i \\in \\text{boxes} \\tag{3}\n",
    "\\end{equation}\n",
    "\n",
    "\n",
    "\\begin{equation}\n",
    "\\text{y}^{'}_{i} <= \\sum_{j \\in \\text{outer_carton_boxes}}W_{j}p_{i,j}, \\quad \\forall i \\in \\text{boxes} \\tag{4}\n",
    "\\end{equation}\n",
    "\n",
    "\n",
    "\\begin{equation}\n",
    "\\text{z}^{'}_{i} <= \\sum_{j \\in \\text{outer_carton_boxes}}H_{j}p_{i,j}, \\quad \\forall i \\in \\text{boxes} \\tag{5}\n",
    "\\end{equation}\n",
    "\n",
    "\n",
    "\\begin{equation}\n",
    "\\text{x}^{'} - \\text{x}_{i} = \\text{r}_{i,1,1}\\text{l}_{i} + \\text{r}_{i,1,2}\\text{w}_{i} + \\text{r}_{i,1,3}\\text{h}_{i} \\quad \\forall i \\in \\text{boxes} \\tag{6}\n",
    "\\end{equation}\n",
    "\n",
    "\n",
    "\\begin{equation}\n",
    "\\text{y}^{'} - \\text{y}_{i} = \\text{r}_{i,2,1}\\text{l}_{i} + \\text{r}_{i,2,2}\\text{w}_{i} + \\text{r}_{i,2,3}\\text{h}_{i} \\quad \\forall i \\in \\text{boxes} \\tag{7}\n",
    "\\end{equation}\n",
    "\n",
    "\n",
    "\\begin{equation}\n",
    "\\text{z}^{'} - \\text{z}_{i} = \\text{r}_{i,3,1}\\text{l}_{i} + \\text{r}_{i,3,2}\\text{w}_{i} + \\text{r}_{i,3,3}\\text{h}_{i} \\quad \\forall i \\in \\text{boxes} \\tag{8}\n",
    "\\end{equation}\n",
    "\n",
    "\\begin{equation}\n",
    "\\sum_{a}\\text{r}_{i,a,b} = 1, \\quad \\forall i \\in \\text{boxes}, b \\tag{9}\n",
    "\\end{equation}\n",
    "\n",
    "\n",
    "\\begin{equation}\n",
    "\\sum_{b}\\text{r}_{i,a,b} = 1, \\quad \\forall i \\in \\text{boxes}, a \\tag{10}\n",
    "\\end{equation}\n",
    "\n",
    "\n",
    "_i_ $\\in$ {1, .. n}, _j_ $\\in$ {1, .. m}, _a_, _b_ $\\in$ {1,2,3}"
   ]
  },
  {
   "cell_type": "markdown",
   "id": "d404cb13",
   "metadata": {},
   "source": [
    "The maximum capacity of each outer carton box _j_ cannot be exceeded, which is ensured by constraint (1)  \n",
    "This set of constraints, in conjunction with the minimization of the objective function, fully determines the values of the variables $\\text{u}_{j}$.  \n",
    "Constraint (4) verify that each box is allocated to exactly one container.   \n",
    "Constraints (3) - (5) ensure that the boxes do not exceed their container size.  \n",
    "Constraints (6) - (10) describe that the boxes can rotate orthogonally in the container.  \n",
    "Note that (6) - (8) imply $\\text{x}_{i}$ < $\\text{x}^{'}_{i}$, $\\text{y}_{i}$ < $\\text{y}^{'}_{i}$, $\\text{z}_{i}$ < $\\text{z}^{'}_{i}$"
   ]
  },
  {
   "cell_type": "markdown",
   "id": "3cd44f2c",
   "metadata": {},
   "source": [
    "The following constraints ensure that there is no overlap, that is, two boxes cannot occupy a same portion of the space:"
   ]
  },
  {
   "cell_type": "markdown",
   "id": "f44bc00a",
   "metadata": {},
   "source": [
    "$\\text{x}^{p}_{i,k}$ + $\\text{x}^{p}_{k,i}$ + $\\text{y}^{p}_{i,k}$ + $\\text{y}^{p}_{k,i}$ + $\\text{z}^{p}_{i,k}$ + $\\text{z}^{p}_{k,i}$ >= ($\\text{p}_{i,j}$ + $\\text{p}_{k,j}$) - 1,  $\\quad \\forall (i,k) \\in \\text{boxes}, \\forall j \\in \\text{outer_carton_boxes} $  \n",
    "\n",
    "$\\text{x}^{'}_{k} <= \\text{x}_{i} + (1 - \\text{x}^{p}_{i,k})L, \\quad \\forall (i,k) \\in \\text{boxes}$  \n",
    "$\\text{x}_{i} + 1 <= \\text{x}^{'}_{k} + \\text{x}^{p}_{i,k}L, \\quad \\forall (i,k) \\in \\text{boxes}$  \n",
    "\n",
    "\n",
    "$\\text{y}^{'}_{k} <= \\text{y}_{i} + (1 - \\text{y}^{p}_{i,k})W, \\quad \\forall (i,k) \\in \\text{boxes}$  \n",
    "$\\text{y}_{i} + 1 <= \\text{y}^{'}_{k} + \\text{y}^{p}_{i,k}W, \\quad \\forall (i,k) \\in \\text{boxes}$\n",
    "\n",
    "\n",
    "$\\text{z}^{'}_{k} <= \\text{z}_{i} + (1 - \\text{z}^{p}_{i,k})H, \\quad \\forall (i,k) \\in \\text{boxes}$\n",
    "\n",
    "\n",
    "$(i,k) \\in {1, .. n}, j \\in {1, ..., m}$"
   ]
  },
  {
   "cell_type": "markdown",
   "id": "f8eb078f",
   "metadata": {},
   "source": [
    "---\n",
    "**Formulation in Gurobi - Python API**\n",
    "___"
   ]
  },
  {
   "cell_type": "code",
   "execution_count": 1,
   "id": "dd24ec11",
   "metadata": {},
   "outputs": [],
   "source": [
    "import time\n",
    "import numpy as np\n",
    "import pandas as pd\n",
    "import itertools\n",
    "\n",
    "import gurobipy as gp\n",
    "from gurobipy import GRB\n",
    "\n",
    "##------------------------------------------##\n",
    "##                  DATA\n",
    "##------------------------------------------##\n",
    "\n",
    "# for each box_id -> length, width and height\n",
    "boxes_dim = {'42535423': [0.01, 0.21, 0.28],\n",
    "             '42666790': [0.02, 0.23, 0.29],\n",
    "             '42975571': [0.07, 0.28, 0.39],\n",
    "             '43038053': [0.04, 0.16, 0.23],\n",
    "             '69656293': [0.25, 0.2, 0.03],\n",
    "             '70634587': [0.25, 0.2, 0.03]}\n",
    "\n",
    "# weight of each box_id\n",
    "boxes_wt = {'42535423': 1,\n",
    "             '42666790': 1,\n",
    "             '42975571': 1,\n",
    "             '43038053': 1,\n",
    "             '69656293': 1,\n",
    "             '70634587': 1}\n",
    "\n",
    "# for each outer_carton_box or container -> length, width and height\n",
    "container_dim = {\n",
    "    \"M_1\": [0.528, 0.345, 0.439],\n",
    "    \"M_2\": [0.528, 0.345, 0.439],\n",
    "    \"S_1\": [0.403, 0.301, 0.33],\n",
    "    \"S_2\": [0.403, 0.301, 0.33],\n",
    "    \"MN_1\": [0.27, 0.21, 0.14],\n",
    "    \"MN_2\": [0.27, 0.21, 0.14],\n",
    "    \"XS_1\": [0.30, 0.30, 0.30],\n",
    "    \"XS_2\": [0.30, 0.30, 0.30],\n",
    "    \"HM_1\": [0.528, 0.345, 0.21],\n",
    "    \"HM_2\": [0.528, 0.345, 0.21],\n",
    "    \"F_1\": [0.95, 0.262, 0.47],\n",
    "    \"F_2\": [0.95, 0.262, 0.47],\n",
    "    \"L_1\": [0.573, 0.56, 0.41],\n",
    "    \"L_2\": [0.573, 0.56, 0.41],\n",
    "}\n",
    "\n",
    "# outer_carton_box or container weight\n",
    "container_wt = {\n",
    "    \"M_1\": 100,\n",
    "    \"M_2\": 100,\n",
    "    \"S_1\": 100,\n",
    "    \"S_2\": 100,\n",
    "    \"MN_1\": 100,\n",
    "    \"MN_2\": 100,\n",
    "    \"XS_1\": 100,\n",
    "    \"XS_2\": 100,\n",
    "    \"HM_1\": 100,\n",
    "    \"HM_2\": 100,\n",
    "    \"F_1\": 100,\n",
    "    \"F_2\": 100,\n",
    "    \"L_1\": 100,\n",
    "    \"L_2\": 100,\n",
    "}\n",
    "\n",
    "# outer_carton_box or container volume\n",
    "container_vol = {\n",
    "    \"M_1\": 0.07996824,\n",
    "    \"M_2\": 0.07996824,\n",
    "    \"S_1\": 0.04002999,\n",
    "    \"S_2\": 0.04002999,\n",
    "    \"MN_1\": 0.007938,\n",
    "    \"MN_2\": 0.007938,\n",
    "    \"XS_1\": 0.027,\n",
    "    \"XS_2\": 0.027,\n",
    "    \"HM_1\": 0.0382536,\n",
    "    \"HM_2\": 0.0382536,\n",
    "    \"F_1\": 0.116983,\n",
    "    \"F_2\": 0.116983,\n",
    "    \"L_1\": 0.1315608,\n",
    "    \"L_2\": 0.1315608,\n",
    "}"
   ]
  },
  {
   "cell_type": "markdown",
   "id": "cee93482",
   "metadata": {},
   "source": [
    "**Decision Variables**"
   ]
  },
  {
   "cell_type": "code",
   "execution_count": 2,
   "id": "e60f48f6",
   "metadata": {},
   "outputs": [
    {
     "name": "stdout",
     "output_type": "stream",
     "text": [
      "Set parameter WLSAccessID\n",
      "Set parameter WLSSecret\n",
      "Set parameter LicenseID to value 966035\n",
      "WLS license - registered to bhartendu.awasthi@anko.com\n"
     ]
    }
   ],
   "source": [
    "# create a gurobi model object\n",
    "mdl = gp.Model(\"3D_bin_packing\")\n",
    "\n",
    "# create decision variables\n",
    "# whether a box goes into an outer carton box (container). p_ij from above formulation\n",
    "box_assign_container = mdl.addVars(\n",
    "    boxes_dim, container_dim, vtype=GRB.BINARY, name=\"box_assign_container_\"\n",
    ")\n",
    "\n",
    "# whether an outer carton box was used or not. u_j from above formulation\n",
    "container_used = mdl.addVars(container_dim, vtype=GRB.BINARY, name=\"container_used\")\n",
    "\n",
    "# position of the box -> front - left - bottom corner. (x_i, y_i, z_i) from above formulation\n",
    "front_left_bottom_pos = mdl.addVars(\n",
    "    boxes_dim, \"1\", [\"x\", \"y\", \"z\"], vtype=GRB.CONTINUOUS, name=\"front_left_bottom_\"\n",
    ")\n",
    "\n",
    "# position of the box -> rear - right - top corner. (x_^'_i, y_^'_i, z_^'_i) from above formulation\n",
    "rear_right_top_pos = mdl.addVars(\n",
    "    boxes_dim, \"2\", [\"x\", \"y\", \"z\"], vtype=GRB.CONTINUOUS, name=\"rear_right_top\"\n",
    ")\n",
    "\n",
    "# alignment of the box with respect to the outer carton box. r_i_a_b from above formulation\n",
    "box_orientation = mdl.addVars(\n",
    "    boxes_dim, [\"1\", \"2\", \"3\"], [\"1\", \"2\", \"3\"], vtype=GRB.BINARY, name=\"box_orientation\"\n",
    ")\n",
    "\n",
    "# pair of all boxes\n",
    "pairs = [\n",
    "    i\n",
    "    for i in list(itertools.product(boxes_dim.keys(), boxes_dim.keys()))\n",
    "    if i[0] != i[1]\n",
    "]\n",
    "\n",
    "# whether a box is to the right of another box. x_p_i_k from above formulation\n",
    "right_left = mdl.addVars(pairs, vtype=GRB.BINARY, name=\"right\")\n",
    "\n",
    "# whether a box is behind of another box. y_p_i_k from above formulation\n",
    "behind_front = mdl.addVars(pairs, vtype=GRB.BINARY, name=\"behind\")\n",
    "\n",
    "# whether a box is on top of another box. z_p_i_k from above formulation\n",
    "top_bottom = mdl.addVars(pairs, vtype=GRB.BINARY, name=\"top\")"
   ]
  },
  {
   "cell_type": "markdown",
   "id": "a2d3e646",
   "metadata": {},
   "source": [
    "**Constraints**"
   ]
  },
  {
   "cell_type": "code",
   "execution_count": 3,
   "id": "6a04dd9a",
   "metadata": {},
   "outputs": [],
   "source": [
    "big_M = 1000\n",
    "\n",
    "for i in right_left:\n",
    "    \n",
    "    # whether a box is to the right of another box\n",
    "    mdl.addConstr(\n",
    "        front_left_bottom_pos[i[0], \"1\", \"x\"]\n",
    "        >= rear_right_top_pos[i[1], \"2\", \"x\"] - (big_M * (1 - right_left[i]))\n",
    "    )\n",
    "    mdl.addConstr(\n",
    "        front_left_bottom_pos[i[0], \"1\", \"x\"]\n",
    "        <= rear_right_top_pos[i[1], \"2\", \"x\"] + (big_M * right_left[i])\n",
    "    )\n",
    "\n",
    "    # whether a box is behind of another box\n",
    "    mdl.addConstr(\n",
    "        front_left_bottom_pos[i[0], \"1\", \"y\"]\n",
    "        >= rear_right_top_pos[i[1], \"2\", \"y\"] - (big_M * (1 - behind_front[i]))\n",
    "    )\n",
    "    mdl.addConstr(\n",
    "        front_left_bottom_pos[i[0], \"1\", \"y\"]\n",
    "        <= rear_right_top_pos[i[1], \"2\", \"y\"] + (big_M * behind_front[i])\n",
    "    )\n",
    "\n",
    "    # whether a box is on top of another box\n",
    "    mdl.addConstr(\n",
    "        front_left_bottom_pos[i[0], \"1\", \"z\"]\n",
    "        >= rear_right_top_pos[i[1], \"2\", \"z\"] - (big_M * (1 - top_bottom[i]))\n",
    "    )\n",
    "    mdl.addConstr(\n",
    "        front_left_bottom_pos[i[0], \"1\", \"z\"]\n",
    "        <= rear_right_top_pos[i[1], \"2\", \"z\"] + (big_M * top_bottom[i])\n",
    "    )\n",
    "    \n",
    "\n",
    "# The maximum capacity of a container cannot be exceeded\n",
    "mdl.addConstrs(\n",
    "    gp.quicksum(boxes_wt[i] * box_assign_container[i, j] for i in boxes_dim)\n",
    "    <= container_wt[j] * container_used[j]\n",
    "    for j in container_dim\n",
    ")\n",
    "\n",
    "# each box is allocated to exactly one container\n",
    "mdl.addConstrs(\n",
    "    gp.quicksum(box_assign_container[i, j] for j in container_dim) == 1\n",
    "    for i in boxes_dim\n",
    ")\n",
    "\n",
    "\n",
    "# boxes do not exceed their container size\n",
    "for i in boxes_dim.keys():\n",
    "    mdl.addConstr(\n",
    "        rear_right_top_pos[i, \"2\", \"x\"]\n",
    "        <= gp.quicksum(\n",
    "            container_dim[j][0] * box_assign_container[i, j] for j in container_dim\n",
    "        )\n",
    "    )\n",
    "    mdl.addConstr(\n",
    "        rear_right_top_pos[i, \"2\", \"y\"]\n",
    "        <= gp.quicksum(\n",
    "            container_dim[j][1] * box_assign_container[i, j] for j in container_dim\n",
    "        )\n",
    "    )\n",
    "    mdl.addConstr(\n",
    "        rear_right_top_pos[i, \"2\", \"z\"]\n",
    "        <= gp.quicksum(\n",
    "            container_dim[j][2] * box_assign_container[i, j] for j in container_dim\n",
    "        )\n",
    "    )\n",
    "\n",
    "# boxes can rotate orthogonally in the container    \n",
    "for i in boxes_dim.keys():\n",
    "    mdl.addConstr(\n",
    "        (rear_right_top_pos[i, \"2\", \"x\"] - front_left_bottom_pos[i, \"1\", \"x\"])\n",
    "        == (\n",
    "            (box_orientation[i, \"1\", \"1\"] * boxes_dim[i][0])\n",
    "            + (box_orientation[i, \"1\", \"2\"] * boxes_dim[i][1])\n",
    "            + (box_orientation[i, \"1\", \"3\"] * boxes_dim[i][2])\n",
    "        )\n",
    "    )\n",
    "    mdl.addConstr(\n",
    "        (rear_right_top_pos[i, \"2\", \"y\"] - front_left_bottom_pos[i, \"1\", \"y\"])\n",
    "        == (\n",
    "            (box_orientation[i, \"2\", \"1\"] * boxes_dim[i][0])\n",
    "            + (box_orientation[i, \"2\", \"2\"] * boxes_dim[i][1])\n",
    "            + (box_orientation[i, \"2\", \"3\"] * boxes_dim[i][2])\n",
    "        )\n",
    "    )\n",
    "    mdl.addConstr(\n",
    "        (rear_right_top_pos[i, \"2\", \"z\"] - front_left_bottom_pos[i, \"1\", \"z\"])\n",
    "        == (\n",
    "            (box_orientation[i, \"3\", \"1\"] * boxes_dim[i][0])\n",
    "            + (box_orientation[i, \"3\", \"2\"] * boxes_dim[i][1])\n",
    "            + (box_orientation[i, \"3\", \"3\"] * boxes_dim[i][2])\n",
    "        )\n",
    "    )\n",
    "    \n",
    "    \n",
    "for i in boxes_dim.keys():\n",
    "    for b in [\"1\", \"2\", \"3\"]:\n",
    "        mdl.addConstr(\n",
    "            gp.quicksum(box_orientation[i, a, b] for a in [\"1\", \"2\", \"3\"]) == 1\n",
    "        )\n",
    "\n",
    "for i in boxes_dim.keys():\n",
    "    for a in [\"1\", \"2\", \"3\"]:\n",
    "        mdl.addConstr(\n",
    "            gp.quicksum(box_orientation[i, a, b] for b in [\"1\", \"2\", \"3\"]) == 1\n",
    "        )\n",
    "        \n",
    "        \n",
    "# To prevent having two boxes occupying a same portion of space, it is sufficient to allow no \n",
    "# overlap along at least one of the axes, that is, at least one of these variables must equal 1  \n",
    "for i in pairs:\n",
    "    for j in container_dim.keys():\n",
    "        mdl.addConstr(\n",
    "            (\n",
    "                right_left[i]\n",
    "                + right_left[i[::-1]]\n",
    "                + behind_front[i]\n",
    "                + behind_front[i[::-1]]\n",
    "                + top_bottom[i]\n",
    "                + top_bottom[i[::-1]]\n",
    "            )\n",
    "            >= ((box_assign_container[i[0], j] + box_assign_container[i[1], j]) - 1)\n",
    "        )\n",
    "\n",
    "\n",
    "for i in pairs:\n",
    "    mdl.addConstr(\n",
    "        rear_right_top_pos[i[1], \"2\", \"x\"]\n",
    "        <= (front_left_bottom_pos[i[0], \"1\", \"x\"] + ((1 - right_left[i]) * 120))\n",
    "    )\n",
    "    mdl.addConstr(\n",
    "        (front_left_bottom_pos[i[0], \"1\", \"x\"] + 0.0001)\n",
    "        <= (rear_right_top_pos[i[1], \"2\", \"x\"] + (right_left[i] * 120))\n",
    "    )\n",
    "\n",
    "    mdl.addConstr(\n",
    "        rear_right_top_pos[i[1], \"2\", \"y\"]\n",
    "        <= (front_left_bottom_pos[i[0], \"1\", \"y\"] + ((1 - behind_front[i]) * 120))\n",
    "    )\n",
    "    mdl.addConstr(\n",
    "        (front_left_bottom_pos[i[0], \"1\", \"y\"] + 0.0001)\n",
    "        <= (rear_right_top_pos[i[1], \"2\", \"y\"] + (behind_front[i] * 120))\n",
    "    )\n",
    "\n",
    "    mdl.addConstr(\n",
    "        rear_right_top_pos[i[1], \"2\", \"z\"]\n",
    "        <= (front_left_bottom_pos[i[0], \"1\", \"z\"] + ((1 - top_bottom[i]) * 120))\n",
    "    )\n",
    "    mdl.addConstr(\n",
    "        (front_left_bottom_pos[i[0], \"1\", \"y\"] + 0.0001)\n",
    "        <= (rear_right_top_pos[i[1], \"2\", \"y\"] + (top_bottom[i] * 120))\n",
    "    )"
   ]
  },
  {
   "cell_type": "markdown",
   "id": "6085f048",
   "metadata": {},
   "source": [
    "**Objective Function**"
   ]
  },
  {
   "cell_type": "code",
   "execution_count": 4,
   "id": "751031f2",
   "metadata": {},
   "outputs": [],
   "source": [
    "obj = gp.quicksum(\n",
    "    container_used[i] * container_vol[i] for i in container_dim.keys()\n",
    ") - sum([np.prod(boxes_dim[i]) for i in boxes_dim.keys()])\n",
    "\n",
    "mdl.setObjective(obj, sense=GRB.MINIMIZE)"
   ]
  },
  {
   "cell_type": "markdown",
   "id": "65592f8b",
   "metadata": {},
   "source": [
    "**Solve**"
   ]
  },
  {
   "cell_type": "code",
   "execution_count": null,
   "id": "36b3e1de",
   "metadata": {},
   "outputs": [],
   "source": [
    "mdl.optimize()"
   ]
  },
  {
   "cell_type": "markdown",
   "id": "8176aa5a",
   "metadata": {},
   "source": [
    "**Visualize the output**"
   ]
  },
  {
   "cell_type": "code",
   "execution_count": 6,
   "id": "01b82b10",
   "metadata": {},
   "outputs": [
    {
     "data": {
      "text/html": [
       "<div id=\"glowscript\" class=\"glowscript\"></div>"
      ],
      "text/plain": [
       "<IPython.core.display.HTML object>"
      ]
     },
     "metadata": {},
     "output_type": "display_data"
    },
    {
     "data": {
      "application/javascript": [
       "if (typeof Jupyter !== \"undefined\") { window.__context = { glowscript_container: $(\"#glowscript\").removeAttr(\"id\")};}else{ element.textContent = ' ';}"
      ],
      "text/plain": [
       "<IPython.core.display.Javascript object>"
      ]
     },
     "metadata": {},
     "output_type": "display_data"
    },
    {
     "data": {
      "application/javascript": [
       "if (typeof Jupyter !== \"undefined\") {require.undef(\"nbextensions/vpython_libraries/glow.min\");}else{element.textContent = ' ';}"
      ],
      "text/plain": [
       "<IPython.core.display.Javascript object>"
      ]
     },
     "metadata": {},
     "output_type": "display_data"
    },
    {
     "data": {
      "application/javascript": [
       "if (typeof Jupyter !== \"undefined\") {require.undef(\"nbextensions/vpython_libraries/glowcomm\");}else{element.textContent = ' ';}"
      ],
      "text/plain": [
       "<IPython.core.display.Javascript object>"
      ]
     },
     "metadata": {},
     "output_type": "display_data"
    },
    {
     "data": {
      "application/javascript": [
       "if (typeof Jupyter !== \"undefined\") {require.undef(\"nbextensions/vpython_libraries/jquery-ui.custom.min\");}else{element.textContent = ' ';}"
      ],
      "text/plain": [
       "<IPython.core.display.Javascript object>"
      ]
     },
     "metadata": {},
     "output_type": "display_data"
    },
    {
     "data": {
      "application/javascript": [
       "if (typeof Jupyter !== \"undefined\") {require([\"nbextensions/vpython_libraries/glow.min\"], function(){console.log(\"GLOW LOADED\");});}else{element.textContent = ' ';}"
      ],
      "text/plain": [
       "<IPython.core.display.Javascript object>"
      ]
     },
     "metadata": {},
     "output_type": "display_data"
    },
    {
     "data": {
      "application/javascript": [
       "if (typeof Jupyter !== \"undefined\") {require([\"nbextensions/vpython_libraries/glowcomm\"], function(){console.log(\"GLOWCOMM LOADED\");});}else{element.textContent = ' ';}"
      ],
      "text/plain": [
       "<IPython.core.display.Javascript object>"
      ]
     },
     "metadata": {},
     "output_type": "display_data"
    },
    {
     "data": {
      "application/javascript": [
       "if (typeof Jupyter !== \"undefined\") {require([\"nbextensions/vpython_libraries/jquery-ui.custom.min\"], function(){console.log(\"JQUERY LOADED\");});}else{element.textContent = ' ';}"
      ],
      "text/plain": [
       "<IPython.core.display.Javascript object>"
      ]
     },
     "metadata": {},
     "output_type": "display_data"
    }
   ],
   "source": [
    "from vpython import box, vector, label\n",
    "\n",
    "# outer box dimensions\n",
    "out_box = [0.528, 0.345, 0.21]\n",
    "\n",
    "# example of the output -> front left bottom coordinates for all boxes\n",
    "front_left_bottom = [(k, v.X) for k, v in front_left_bottom_pos.items()]\n",
    "\n",
    "# example of the output -> rear right top coordinates for all the boxes\n",
    "rear_right_top = [(k, v.X) for k, v in rear_right_top_pos.items()]\n",
    "\n",
    "\n",
    "def make_box(box_center, box_size, box_opacity, box_color, box_num):\n",
    "    #     print(box_center, box_size)\n",
    "    box(\n",
    "        pos=vector(box_center[0], box_center[2], -box_center[1]),\n",
    "        color=vector(box_color[0], box_color[1], box_color[2]),\n",
    "        size=vector(box_size[0], box_size[2], box_size[1]),\n",
    "        opacity=box_opacity,\n",
    "        shininess=0,\n",
    "        emissive=False,\n",
    "    )\n",
    "    if box_num:\n",
    "        label(\n",
    "            pos=vector(box_center[0], box_center[2], -box_center[1]),\n",
    "            text=\"box \" + str(box_num),\n",
    "            xoffset=-5,\n",
    "            yoffset=8,\n",
    "            space=10,\n",
    "            height=10,\n",
    "            border=2,\n",
    "            font=\"sans\",\n",
    "        )\n",
    "    return\n",
    "\n",
    "\n",
    "def get_boxes(out_box, front_left_bottom, rear_right_top):\n",
    "    out_box_center = (0, 0, 0)\n",
    "    out_box_size = [out_box[0], out_box[1], out_box[2]]\n",
    "    out_box_opacity = 0.2\n",
    "    out_box_color = [1, 1, 1]\n",
    "    make_box(out_box_center, out_box_size, out_box_opacity, out_box_color, 0)\n",
    "    offset_origin = [\n",
    "        -float(out_box[0] / 2),\n",
    "        -float(out_box[1] / 2),\n",
    "        -float(out_box[2] / 2),\n",
    "    ]\n",
    "    number_boxes = len(front_left_bottom)\n",
    "    inner_boxes_color = []\n",
    "    i = 0\n",
    "    box_num = 1\n",
    "    while i < number_boxes:\n",
    "        box_size = [\n",
    "            rear_right_top[i][1] - front_left_bottom[i][1],\n",
    "            rear_right_top[i + 1][1] - front_left_bottom[i + 1][1],\n",
    "            rear_right_top[i + 2][1] - front_left_bottom[i + 2][1],\n",
    "        ]\n",
    "        box_center = [\n",
    "            offset_origin[0] + float(box_size[0] / 2) + front_left_bottom[i][1],\n",
    "            offset_origin[1] + float(box_size[1] / 2) + front_left_bottom[i + 1][1],\n",
    "            offset_origin[2] + float(box_size[2] / 2) + front_left_bottom[i + 2][1],\n",
    "        ]\n",
    "        inner_boxes_opacity = 1\n",
    "        inner_boxes_color = [9 - i / 2, 1, i / 3]\n",
    "        make_box(box_center, box_size, inner_boxes_opacity, inner_boxes_color, box_num)\n",
    "        box_num = box_num + 1\n",
    "        i = i + 3\n",
    "    return\n",
    "\n",
    "\n",
    "get_boxes(out_box, front_left_bottom, rear_right_top)"
   ]
  },
  {
   "cell_type": "code",
   "execution_count": null,
   "id": "580b3d01",
   "metadata": {},
   "outputs": [],
   "source": []
  }
 ],
 "metadata": {
  "kernelspec": {
   "display_name": "Python 3 (ipykernel)",
   "language": "python",
   "name": "python3"
  },
  "language_info": {
   "codemirror_mode": {
    "name": "ipython",
    "version": 3
   },
   "file_extension": ".py",
   "mimetype": "text/x-python",
   "name": "python",
   "nbconvert_exporter": "python",
   "pygments_lexer": "ipython3",
   "version": "3.10.9"
  }
 },
 "nbformat": 4,
 "nbformat_minor": 5
}
